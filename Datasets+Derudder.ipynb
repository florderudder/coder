{
 "cells": [
  {
   "cell_type": "markdown",
   "id": "dc69658d-3eb1-482e-87d9-bf4bd9ed85f6",
   "metadata": {},
   "source": [
    "DATA SET 1 - Airline Satisfaction "
   ]
  },
  {
   "cell_type": "markdown",
   "id": "89163a0e-2f2f-4514-87b5-aab0bca2660c",
   "metadata": {},
   "source": [
    "- Archivo extraído de https://www.kaggle.com/datasets/sjleshrac/airlines-customer-satisfaction\n",
    "- Idea disparadora: crear un modelo que prediga la compra de un pasajero de ómnibus según su comportamiento en el pasado o el comporamiento de usuarios con características similares. Dado que no conseguí un dataset de este estilo, extraje uno de una aerolínea y puedo replicarlo en caso de conseguir la información requerida"
   ]
  },
  {
   "cell_type": "code",
   "execution_count": 8,
   "id": "db0e58e1-3c01-459e-b3be-ba5f47ff3563",
   "metadata": {},
   "outputs": [
    {
     "name": "stdout",
     "output_type": "stream",
     "text": [
      "(129880, 23)\n",
      "Cumple condición de cantidad de filas mayor a 2000, tiene 129880 filas\n",
      "Cumple condición de cantidad de columnas mayor a 15, tiene 23 columnas\n"
     ]
    }
   ],
   "source": [
    "# Importo y verifico que cumpla con las condiciones de la consigna: >2000 filas y >15 columnas\n",
    "import pandas as pd\n",
    "df_airline = pd.read_excel(\"C:/Users/Flori/airlinesatisfaction.xlsx\")  \n",
    "print(df_airline.shape)\n",
    "filas_al = 'Cumple condición de cantidad de filas mayor a 2000, tiene '+str(df_airline.shape[0])+' filas' if df_airline.shape[0] > 2000 else 'No cumple la condición de cantidad de filas mayor a 2000. Rever dataset'\n",
    "print(filas_al)\n",
    "columnas_al = 'Cumple condición de cantidad de columnas mayor a 15, tiene '+str(df_airline.shape[1])+' columnas' if df_airline.shape[1] > 15 else 'No cumple la condición de cantidad de columnas mayor a 15. Rever dataset'\n",
    "print(columnas_al)"
   ]
  },
  {
   "cell_type": "code",
   "execution_count": 9,
   "id": "23ab5507-baf1-4aa7-b18e-36b312276bb4",
   "metadata": {},
   "outputs": [
    {
     "name": "stdout",
     "output_type": "stream",
     "text": [
      "  satisfaction  Gender   Customer Type  Age   Type of Travel     Class  \\\n",
      "0    satisfied  Female  Loyal Customer   65  Personal Travel       Eco   \n",
      "1    satisfied    Male  Loyal Customer   47  Personal Travel  Business   \n",
      "2    satisfied  Female  Loyal Customer   15  Personal Travel       Eco   \n",
      "3    satisfied  Female  Loyal Customer   60  Personal Travel       Eco   \n",
      "4    satisfied  Female  Loyal Customer   70  Personal Travel       Eco   \n",
      "\n",
      "   Flight Distance  Seat comfort  Departure/Arrival time convenient  \\\n",
      "0              265             0                                  0   \n",
      "1             2464             0                                  0   \n",
      "2             2138             0                                  0   \n",
      "3              623             0                                  0   \n",
      "4              354             0                                  0   \n",
      "\n",
      "   Food and drink  ...  Online support  Ease of Online booking  \\\n",
      "0               0  ...               2                       3   \n",
      "1               0  ...               2                       3   \n",
      "2               0  ...               2                       2   \n",
      "3               0  ...               3                       1   \n",
      "4               0  ...               4                       2   \n",
      "\n",
      "   On-board service  Leg room service  Baggage handling  Checkin service  \\\n",
      "0                 3                 0                 3                5   \n",
      "1                 4                 4                 4                2   \n",
      "2                 3                 3                 4                4   \n",
      "3                 1                 0                 1                4   \n",
      "4                 2                 0                 2                4   \n",
      "\n",
      "   Cleanliness  Online boarding  Departure Delay in Minutes  \\\n",
      "0            3                2                           0   \n",
      "1            3                2                         310   \n",
      "2            4                2                           0   \n",
      "3            1                3                           0   \n",
      "4            2                5                           0   \n",
      "\n",
      "   Arrival Delay in Minutes  \n",
      "0                       0.0  \n",
      "1                     305.0  \n",
      "2                       0.0  \n",
      "3                       0.0  \n",
      "4                       0.0  \n",
      "\n",
      "[5 rows x 23 columns]\n"
     ]
    }
   ],
   "source": [
    "# Estudio las columnas para entender la información que puedo extraer\n",
    "print(df_airline.head())"
   ]
  },
  {
   "cell_type": "code",
   "execution_count": 10,
   "id": "067930e7-e20f-4636-b560-6f6d1d8d1dec",
   "metadata": {},
   "outputs": [
    {
     "name": "stdout",
     "output_type": "stream",
     "text": [
      "satisfaction                          object\n",
      "Gender                                object\n",
      "Customer Type                         object\n",
      "Age                                    int64\n",
      "Type of Travel                        object\n",
      "Class                                 object\n",
      "Flight Distance                        int64\n",
      "Seat comfort                           int64\n",
      "Departure/Arrival time convenient      int64\n",
      "Food and drink                         int64\n",
      "Gate location                          int64\n",
      "Inflight wifi service                  int64\n",
      "Inflight entertainment                 int64\n",
      "Online support                         int64\n",
      "Ease of Online booking                 int64\n",
      "On-board service                       int64\n",
      "Leg room service                       int64\n",
      "Baggage handling                       int64\n",
      "Checkin service                        int64\n",
      "Cleanliness                            int64\n",
      "Online boarding                        int64\n",
      "Departure Delay in Minutes             int64\n",
      "Arrival Delay in Minutes             float64\n",
      "dtype: object\n"
     ]
    }
   ],
   "source": [
    "# Tipo de dato y columnas que tengo\n",
    "tipos_de_datos_al = df_airline.dtypes\n",
    "print(tipos_de_datos_al)"
   ]
  },
  {
   "cell_type": "code",
   "execution_count": 17,
   "id": "0c3959c1-282a-4f88-b417-e173ab3e28d2",
   "metadata": {},
   "outputs": [
    {
     "name": "stdout",
     "output_type": "stream",
     "text": [
      "['satisfied' 'dissatisfied']\n",
      "['Loyal Customer' 'disloyal Customer']\n",
      "['Personal Travel' 'Business travel']\n",
      "['Eco' 'Business' 'Eco Plus']\n"
     ]
    }
   ],
   "source": [
    "#Información de cada campo object\n",
    "satisf = df_airline['satisfaction'].unique()\n",
    "cust_type = df_airline['Customer Type'].unique()\n",
    "type_travel = df_airline['Type of Travel'].unique()\n",
    "cust_class = df_airline['Class'].unique()\n",
    "print(satisf)\n",
    "print(cust_type)\n",
    "print(type_travel)\n",
    "print(cust_class)"
   ]
  },
  {
   "cell_type": "code",
   "execution_count": 18,
   "id": "c0720354-8965-433a-826e-2dab017d499a",
   "metadata": {},
   "outputs": [
    {
     "name": "stdout",
     "output_type": "stream",
     "text": [
      "['satisfaction', 'Gender', 'Customer Type', 'Age', 'Type of Travel', 'Class', 'Flight Distance', 'Seat comfort', 'Departure/Arrival time convenient', 'Food and drink', 'Gate location', 'Inflight wifi service', 'Inflight entertainment', 'Online support', 'Ease of Online booking', 'On-board service', 'Leg room service', 'Baggage handling', 'Checkin service', 'Cleanliness', 'Online boarding', 'Departure Delay in Minutes', 'Arrival Delay in Minutes']\n"
     ]
    }
   ],
   "source": [
    "# Variables útiles para el análisis\n",
    "column_names_al = df_airline.columns.tolist()\n",
    "print(column_names_al)"
   ]
  },
  {
   "cell_type": "markdown",
   "id": "5e9621c2-57b8-429b-98e4-83862237f836",
   "metadata": {},
   "source": [
    "Para entender la satisfacción es importante entender las características del viaje, por ende toda la información que trae es relevante. Por esto, consideraría:\n",
    "- GROUP BY Type of Travel, Customer Type y Class -- a mejor clase o loyalty el servicio debería mejorar\n",
    "- Edad promedio y Gender -- la paciencia no es la misma y la experiencia tampoco\n",
    "- Cantidad de condiciones = 1 que posee, es decir si tuvo comida, si el asiento era cómodo, el servicio etc -- puede permitirle al usuario subir de categoría o ayudarme a predecir en qué status de satisfacción estará\n",
    "- Debería definir una variable \"Estado de vuelo\" que permita evaluar si el vuelo fue bueno, malo, regular dependiendo del tiempo de espera\n",
    "- Cantidad de usuarios en cada una de las características\n",
    "- Porcentaje de usuarios en Satisfied vs dissatisfied para entender si el servicio overall es bueno o necesita mejoras ASAP\n",
    "- Tiempo promedio de vuelo\n",
    "- Tiempo de retraso promedio\n",
    "- Cantidad de valijas\n",
    "- Distancia media"
   ]
  },
  {
   "cell_type": "raw",
   "id": "bfec3602-703b-4c6d-8d98-5b6d814ffdae",
   "metadata": {},
   "source": []
  },
  {
   "cell_type": "raw",
   "id": "1fc9c33c-0a9d-4dde-b215-e9c82065f730",
   "metadata": {},
   "source": []
  },
  {
   "cell_type": "markdown",
   "id": "d5a79530-ff4d-46b8-95e7-a9c02ebfb611",
   "metadata": {},
   "source": [
    "DATA SET 2 - Customer Personality"
   ]
  },
  {
   "cell_type": "markdown",
   "id": "1f1dc042-31e0-4182-9bfb-8077d2d44912",
   "metadata": {},
   "source": [
    "- Archivo extraído de https://www.kaggle.com/datasets/imakash3011/customer-personality-analysis\n",
    "- Idea disparadora: crear un modelo que prediga la compra de un pasajero de ómnibus según su comportamiento en el pasado o el comporamiento de usuarios con características similares. Dado que no conseguí un dataset de este estilo, extraje un caso genérico de customer personality que me puede ayudar a predecir compportamientos en campañas de Marketing o de Pricing según las características del customer"
   ]
  },
  {
   "cell_type": "code",
   "execution_count": 21,
   "id": "ef9bb0fa-3663-4e8d-a624-5a73f2791e53",
   "metadata": {},
   "outputs": [
    {
     "name": "stdout",
     "output_type": "stream",
     "text": [
      "(2240, 29)\n",
      "Cumple condición de cantidad de filas mayor a 2000, tiene 2240 filas\n",
      "Cumple condición de cantidad de columnas mayor a 15, tiene 29 columnas\n"
     ]
    }
   ],
   "source": [
    "# Importo y verifico que cumpla con las condiciones de la consigna: >2000 filas y >15 columnas\n",
    "import pandas as pd\n",
    "df_customerpersonality = pd.read_excel(\"C:/Users/Flori/customerpersonality.xlsx\")  \n",
    "print(df_customerpersonality.shape)\n",
    "filas_cp = 'Cumple condición de cantidad de filas mayor a 2000, tiene '+str(df_customerpersonality.shape[0])+' filas' if df_customerpersonality.shape[0] > 2000 else 'No cumple la condición de cantidad de filas mayor a 2000. Rever dataset'\n",
    "print(filas_cp)\n",
    "columnas_cp = 'Cumple condición de cantidad de columnas mayor a 15, tiene '+str(df_customerpersonality.shape[1])+' columnas' if df_customerpersonality.shape[1] > 15 else 'No cumple la condición de cantidad de columnas mayor a 15. Rever dataset'\n",
    "print(columnas_cp)"
   ]
  },
  {
   "cell_type": "code",
   "execution_count": 22,
   "id": "50bab086-6f06-4abd-a9e4-93df0bc22d81",
   "metadata": {},
   "outputs": [
    {
     "name": "stdout",
     "output_type": "stream",
     "text": [
      "     ID  Year_Birth   Education Marital_Status   Income  Kidhome  Teenhome  \\\n",
      "0  5524        1957  Graduation         Single  58138.0        0         0   \n",
      "1  2174        1954  Graduation         Single  46344.0        1         1   \n",
      "2  4141        1965  Graduation       Together  71613.0        0         0   \n",
      "3  6182        1984  Graduation       Together  26646.0        1         0   \n",
      "4  5324        1981         PhD        Married  58293.0        1         0   \n",
      "\n",
      "  Dt_Customer  Recency  MntWines  ...  NumWebVisitsMonth  AcceptedCmp3  \\\n",
      "0  2012-09-04       58       635  ...                  7             0   \n",
      "1  2014-03-08       38        11  ...                  5             0   \n",
      "2  2013-08-21       26       426  ...                  4             0   \n",
      "3  2014-02-10       26        11  ...                  6             0   \n",
      "4  2014-01-19       94       173  ...                  5             0   \n",
      "\n",
      "   AcceptedCmp4  AcceptedCmp5  AcceptedCmp1  AcceptedCmp2  Complain  \\\n",
      "0             0             0             0             0         0   \n",
      "1             0             0             0             0         0   \n",
      "2             0             0             0             0         0   \n",
      "3             0             0             0             0         0   \n",
      "4             0             0             0             0         0   \n",
      "\n",
      "   Z_CostContact  Z_Revenue  Response  \n",
      "0              3         11         1  \n",
      "1              3         11         0  \n",
      "2              3         11         0  \n",
      "3              3         11         0  \n",
      "4              3         11         0  \n",
      "\n",
      "[5 rows x 29 columns]\n"
     ]
    }
   ],
   "source": [
    "# Estudio las columnas para entender la información que puedo extraer\n",
    "print(df_customerpersonality.head())"
   ]
  },
  {
   "cell_type": "code",
   "execution_count": 23,
   "id": "7b7982da-92dc-44d4-a4b7-7f9817374f1c",
   "metadata": {},
   "outputs": [
    {
     "name": "stdout",
     "output_type": "stream",
     "text": [
      "ID                              int64\n",
      "Year_Birth                      int64\n",
      "Education                      object\n",
      "Marital_Status                 object\n",
      "Income                        float64\n",
      "Kidhome                         int64\n",
      "Teenhome                        int64\n",
      "Dt_Customer            datetime64[ns]\n",
      "Recency                         int64\n",
      "MntWines                        int64\n",
      "MntFruits                       int64\n",
      "MntMeatProducts                 int64\n",
      "MntFishProducts                 int64\n",
      "MntSweetProducts                int64\n",
      "MntGoldProds                    int64\n",
      "NumDealsPurchases               int64\n",
      "NumWebPurchases                 int64\n",
      "NumCatalogPurchases             int64\n",
      "NumStorePurchases               int64\n",
      "NumWebVisitsMonth               int64\n",
      "AcceptedCmp3                    int64\n",
      "AcceptedCmp4                    int64\n",
      "AcceptedCmp5                    int64\n",
      "AcceptedCmp1                    int64\n",
      "AcceptedCmp2                    int64\n",
      "Complain                        int64\n",
      "Z_CostContact                   int64\n",
      "Z_Revenue                       int64\n",
      "Response                        int64\n",
      "dtype: object\n"
     ]
    }
   ],
   "source": [
    "# Tipo de dato y columnas que tengo\n",
    "tipos_de_datos_cp = df_customerpersonality.dtypes\n",
    "print(tipos_de_datos_cp)"
   ]
  },
  {
   "cell_type": "code",
   "execution_count": 24,
   "id": "981bcb29-06f2-429e-9f71-2158130724a1",
   "metadata": {},
   "outputs": [
    {
     "name": "stdout",
     "output_type": "stream",
     "text": [
      "['Graduation' 'PhD' 'Master' 'Basic' '2n Cycle']\n",
      "['Single' 'Together' 'Married' 'Divorced' 'Widow' 'Alone' 'Absurd' 'YOLO']\n"
     ]
    }
   ],
   "source": [
    "#Información de cada campo object\n",
    "educ = df_customerpersonality['Education'].unique()\n",
    "marital_status = df_customerpersonality['Marital_Status'].unique()\n",
    "print(educ)\n",
    "print(marital_status)"
   ]
  },
  {
   "cell_type": "code",
   "execution_count": 25,
   "id": "91ea0a4d-d3e6-43d6-bb31-b5c8bc1453cb",
   "metadata": {},
   "outputs": [
    {
     "name": "stdout",
     "output_type": "stream",
     "text": [
      "['ID', 'Year_Birth', 'Education', 'Marital_Status', 'Income', 'Kidhome', 'Teenhome', 'Dt_Customer', 'Recency', 'MntWines', 'MntFruits', 'MntMeatProducts', 'MntFishProducts', 'MntSweetProducts', 'MntGoldProds', 'NumDealsPurchases', 'NumWebPurchases', 'NumCatalogPurchases', 'NumStorePurchases', 'NumWebVisitsMonth', 'AcceptedCmp3', 'AcceptedCmp4', 'AcceptedCmp5', 'AcceptedCmp1', 'AcceptedCmp2', 'Complain', 'Z_CostContact', 'Z_Revenue', 'Response']\n"
     ]
    }
   ],
   "source": [
    "# Variables útiles para el análisis\n",
    "column_names_cp = df_customerpersonality.columns.tolist()\n",
    "print(column_names_cp)"
   ]
  },
  {
   "cell_type": "markdown",
   "id": "61f26dcb-12eb-47ae-847e-70654f909f55",
   "metadata": {},
   "source": [
    "Variables que tendría en cuenta:\n",
    "- Edad promedio\n",
    "- Cantidad de usuarios en cada Education\n",
    "- Cantidad de usuarios en cada Marital Status\n",
    "- Cantidad de usuarios con Income mayor a X\n",
    "- Income medio\n",
    "- Cantidad de quejas por tipo de educación\n",
    "- Comportamiento por canal: catalogo, web, store"
   ]
  },
  {
   "cell_type": "raw",
   "id": "afbc2e4a-1eaf-4c4a-8d2f-f5e91537f503",
   "metadata": {},
   "source": []
  },
  {
   "cell_type": "raw",
   "id": "089523b6-e1f8-495f-b934-a0301c0f2e90",
   "metadata": {},
   "source": []
  },
  {
   "cell_type": "markdown",
   "id": "d6bc7bfc-a17f-4d96-a89c-c2f73e8eb1a3",
   "metadata": {},
   "source": [
    "DATASET 3 - BEST BOOKS EVER"
   ]
  },
  {
   "cell_type": "markdown",
   "id": "399721d0-41ae-4bd4-ae53-c9c6937f9b41",
   "metadata": {},
   "source": [
    "- Archivo extraído de https://www.kaggle.com/datasets/arnabchaki/goodreads-best-books-ever\n",
    "- Idea: crear un modelo que indique una recomendación de un libro según el día y humor del lector. Para esto traje un dataset con indicaciones de grandes libros, en diferentes idiomas, con diferentes puntuaciones, plots y géneros sabiendo que hay un libro para cada tipo de lector\n",
    "- El dataset está bastante sucio, requiere bastante limpieza"
   ]
  },
  {
   "cell_type": "code",
   "execution_count": 5,
   "id": "edb313ae-299c-4fdf-8de9-120635852041",
   "metadata": {},
   "outputs": [
    {
     "name": "stdout",
     "output_type": "stream",
     "text": [
      "(63686, 116)\n",
      "Cumple condición de cantidad de filas mayor a 2000, tiene 63686 filas\n",
      "Cumple condición de cantidad de columnas mayor a 15, tiene 116 columnas\n"
     ]
    }
   ],
   "source": [
    "# Importo y verifico que cumpla con las condiciones de la consigna: >2000 filas y >15 columnas\n",
    "import pandas as pd\n",
    "df_books = pd.read_excel(\"C:/Users/Flori/books.xlsx\")  \n",
    "print(df_books.shape)\n",
    "filas_b = 'Cumple condición de cantidad de filas mayor a 2000, tiene '+str(df_books.shape[0])+' filas' if df_books.shape[0] > 2000 else 'No cumple la condición de cantidad de filas mayor a 2000. Rever dataset'\n",
    "print(filas_b)\n",
    "columnas_b = 'Cumple condición de cantidad de columnas mayor a 15, tiene '+str(df_books.shape[1])+' columnas' if df_books.shape[1] > 15 else 'No cumple la condición de cantidad de columnas mayor a 15. Rever dataset'\n",
    "print(columnas_b)"
   ]
  },
  {
   "cell_type": "code",
   "execution_count": 27,
   "id": "80a20ae8-f34a-49a9-a5de-d0d4dbae2133",
   "metadata": {},
   "outputs": [
    {
     "name": "stdout",
     "output_type": "stream",
     "text": [
      "    kk                                       bookId  \\\n",
      "0  NaN                     2767052-the-hunger-games   \n",
      "1  NaN  2.Harry_Potter_and_the_Order_of_the_Phoenix   \n",
      "2  NaN                   2657.To_Kill_a_Mockingbird   \n",
      "3  NaN                     1885.Pride_and_Prejudice   \n",
      "4  NaN                               41865.Twilight   \n",
      "\n",
      "                                       title                 series  \\\n",
      "0                           The Hunger Games    The Hunger Games #1   \n",
      "1  Harry Potter and the Order of the Phoenix        Harry Potter #5   \n",
      "2                      To Kill a Mockingbird  To Kill a Mockingbird   \n",
      "3                        Pride and Prejudice                    NaN   \n",
      "4                                   Twilight   The Twilight Saga #1   \n",
      "\n",
      "                                       author rating  \\\n",
      "0                             Suzanne Collins   4.33   \n",
      "1  J.K. Rowling, Mary GrandPrÃ© (Illustrator)   4.50   \n",
      "2                                  Harper Lee   4.28   \n",
      "3   Jane Austen, Anna Quindlen (Introduction)   4.26   \n",
      "4                             Stephenie Meyer   3.60   \n",
      "\n",
      "                                         description language           isbn  \\\n",
      "0  WINNING MEANS FAME AND FORTUNE.LOSING MEANS CE...  English  9780439023481   \n",
      "1  There is a door at the end of a silent corrido...  English  9780439358071   \n",
      "2  The unforgettable novel of a childhood in a sl...  English  9999999999999   \n",
      "3  Alternate cover edition of ISBN 9780679783268S...  English  9999999999999   \n",
      "4  About three things I was absolutely positive. ...  English  9780316015844   \n",
      "\n",
      "                                              genres  ... Unnamed: 107  \\\n",
      "0  ['Young Adult', 'Fiction', 'Dystopia', 'Fantas...  ...          NaN   \n",
      "1  ['Fantasy', 'Young Adult', 'Fiction', 'Magic',...  ...          NaN   \n",
      "2  ['Classics', 'Fiction', 'Historical Fiction', ...  ...          NaN   \n",
      "3  ['Classics', 'Fiction', 'Romance', 'Historical...  ...          NaN   \n",
      "4  ['Young Adult', 'Fantasy', 'Romance', 'Vampire...  ...          NaN   \n",
      "\n",
      "  Unnamed: 108 Unnamed: 109 Unnamed: 110 Unnamed: 111 Unnamed: 112  \\\n",
      "0          NaN          NaN          NaN          NaN          NaN   \n",
      "1          NaN          NaN          NaN          NaN          NaN   \n",
      "2          NaN          NaN          NaN          NaN          NaN   \n",
      "3          NaN          NaN          NaN          NaN          NaN   \n",
      "4          NaN          NaN          NaN          NaN          NaN   \n",
      "\n",
      "  Unnamed: 113 Unnamed: 114 Unnamed: 115 Unnamed: 116  \n",
      "0          NaN          NaN          NaN          NaN  \n",
      "1          NaN          NaN          NaN          NaN  \n",
      "2          NaN          NaN          NaN          NaN  \n",
      "3          NaN          NaN          NaN          NaN  \n",
      "4          NaN          NaN          NaN          NaN  \n",
      "\n",
      "[5 rows x 117 columns]\n"
     ]
    }
   ],
   "source": [
    "# Estudio las columnas para entender la información que puedo extraer\n",
    "print(df_books.head())"
   ]
  },
  {
   "cell_type": "code",
   "execution_count": 2,
   "id": "22c418c2-db69-4499-af2f-87c5f20cb7e7",
   "metadata": {},
   "outputs": [
    {
     "ename": "NameError",
     "evalue": "name 'df_books' is not defined",
     "output_type": "error",
     "traceback": [
      "\u001b[1;31m---------------------------------------------------------------------------\u001b[0m",
      "\u001b[1;31mNameError\u001b[0m                                 Traceback (most recent call last)",
      "Cell \u001b[1;32mIn[2], line 2\u001b[0m\n\u001b[0;32m      1\u001b[0m \u001b[38;5;66;03m# Tipo de dato y columnas que tengo -- muy sucio\u001b[39;00m\n\u001b[1;32m----> 2\u001b[0m tipos_de_datos_b \u001b[38;5;241m=\u001b[39m \u001b[43mdf_books\u001b[49m\u001b[38;5;241m.\u001b[39mdtypes\n\u001b[0;32m      3\u001b[0m \u001b[38;5;28mprint\u001b[39m(tipos_de_datos_b)\n",
      "\u001b[1;31mNameError\u001b[0m: name 'df_books' is not defined"
     ]
    }
   ],
   "source": [
    "# Tipo de dato y columnas que tengo -- muy sucio\n",
    "tipos_de_datos_b = df_books.dtypes\n",
    "print(tipos_de_datos_b)"
   ]
  },
  {
   "cell_type": "code",
   "execution_count": 6,
   "id": "cf46dc84-4f05-43f5-bf98-2ff167e6b640",
   "metadata": {},
   "outputs": [
    {
     "name": "stdout",
     "output_type": "stream",
     "text": [
      "['bookId', 'title', 'series', 'author', 'rating', 'description', 'language', 'isbn', 'genres', 'characters', 'bookFormat', 'edition', 'pages', 'publisher', 'publishDate', 'firstPublishDate', 'awards', 'numRatings', 'ratingsByStars', 'likedPercent', 'setting', 'coverImg', 'bbeScore', 'bbeVotes', 'price', 'Unnamed: 25', 'Unnamed: 26', 'Unnamed: 27', 'Unnamed: 28', 'Unnamed: 29', 'Unnamed: 30', 'Unnamed: 31', 'Unnamed: 32', 'Unnamed: 33', 'Unnamed: 34', 'Unnamed: 35', 'Unnamed: 36', 'Unnamed: 37', 'Unnamed: 38', 'Unnamed: 39', 'Unnamed: 40', 'Unnamed: 41', 'Unnamed: 42', 'Unnamed: 43', 'Unnamed: 44', 'Unnamed: 45', 'Unnamed: 46', 'Unnamed: 47', 'Unnamed: 48', 'Unnamed: 49', 'Unnamed: 50', 'Unnamed: 51', 'Unnamed: 52', 'Unnamed: 53', 'Unnamed: 54', 'Unnamed: 55', 'Unnamed: 56', 'Unnamed: 57', 'Unnamed: 58', 'Unnamed: 59', 'Unnamed: 60', 'Unnamed: 61', 'Unnamed: 62', 'Unnamed: 63', 'Unnamed: 64', 'Unnamed: 65', 'Unnamed: 66', 'Unnamed: 67', 'Unnamed: 68', 'Unnamed: 69', 'Unnamed: 70', 'Unnamed: 71', 'Unnamed: 72', 'Unnamed: 73', 'Unnamed: 74', 'Unnamed: 75', 'Unnamed: 76', 'Unnamed: 77', 'Unnamed: 78', 'Unnamed: 79', 'Unnamed: 80', 'Unnamed: 81', 'Unnamed: 82', 'Unnamed: 83', 'Unnamed: 84', 'Unnamed: 85', 'Unnamed: 86', 'Unnamed: 87', 'Unnamed: 88', 'Unnamed: 89', 'Unnamed: 90', 'Unnamed: 91', 'Unnamed: 92', 'Unnamed: 93', 'Unnamed: 94', 'Unnamed: 95', 'Unnamed: 96', 'Unnamed: 97', 'Unnamed: 98', 'Unnamed: 99', 'Unnamed: 100', 'Unnamed: 101', 'Unnamed: 102', 'Unnamed: 103', 'Unnamed: 104', 'Unnamed: 105', 'Unnamed: 106', 'Unnamed: 107', 'Unnamed: 108', 'Unnamed: 109', 'Unnamed: 110', 'Unnamed: 111', 'Unnamed: 112', 'Unnamed: 113', 'Unnamed: 114', 'Unnamed: 115']\n"
     ]
    }
   ],
   "source": [
    "# Variables útiles para el análisis\n",
    "column_names_b = df_books.columns.tolist()\n",
    "print(column_names_b)"
   ]
  },
  {
   "cell_type": "markdown",
   "id": "6a3d5a44-2654-467b-83c6-93e74a10e102",
   "metadata": {},
   "source": [
    "Variables que tendría en cuenta:\n",
    "- Share de cada autor\n",
    "- Cantidad de libros por género\n",
    "- Cantidad de libros por bookFormat\n",
    "- Porcentaje de likes por género\n",
    "- Precio medio por género\n",
    "- Awards por autor\n",
    "- Cantidad de rating por género\n",
    "- Año de publicación por rating"
   ]
  },
  {
   "cell_type": "code",
   "execution_count": null,
   "id": "1c863b81-7ca6-4cbb-b8b5-f67b856b1f74",
   "metadata": {},
   "outputs": [],
   "source": []
  }
 ],
 "metadata": {
  "kernelspec": {
   "display_name": "Python 3 (ipykernel)",
   "language": "python",
   "name": "python3"
  },
  "language_info": {
   "codemirror_mode": {
    "name": "ipython",
    "version": 3
   },
   "file_extension": ".py",
   "mimetype": "text/x-python",
   "name": "python",
   "nbconvert_exporter": "python",
   "pygments_lexer": "ipython3",
   "version": "3.11.4"
  }
 },
 "nbformat": 4,
 "nbformat_minor": 5
}
